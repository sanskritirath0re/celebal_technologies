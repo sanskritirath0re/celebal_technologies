{
  "nbformat": 4,
  "nbformat_minor": 0,
  "metadata": {
    "colab": {
      "provenance": []
    },
    "kernelspec": {
      "name": "python3",
      "display_name": "Python 3"
    },
    "language_info": {
      "name": "python"
    }
  },
  "cells": [
    {
      "cell_type": "code",
      "source": [
        "import pandas as pd\n",
        "from zipfile import ZipFile\n",
        "\n",
        "# Extract the specific CSV file from the ZIP archive\n",
        "with ZipFile('/content/titanic.zip') as z:\n",
        "    # Print the list of files in the ZIP archive to confirm the file names\n",
        "    print(z.namelist())\n",
        "    # Extract the 'train.csv' file\n",
        "    with z.open('train.csv') as f:\n",
        "        df = pd.read_csv(f)\n",
        "\n",
        "# Continue with the preprocessing steps\n",
        "# Fill missing 'Age' values with median\n",
        "df['Age'].fillna(df['Age'].median(), inplace=True)\n",
        "\n",
        "# Drop 'Cabin' column\n",
        "df.drop(columns=['Cabin'], inplace=True)\n",
        "\n",
        "# Fill missing 'Embarked' values with mode\n",
        "df['Embarked'].fillna(df['Embarked'].mode()[0], inplace=True)\n",
        "\n",
        "# Create 'FamilySize' feature\n",
        "df['FamilySize'] = df['SibSp'] + df['Parch'] + 1\n",
        "\n",
        "# Create 'IsAlone' feature\n",
        "df['IsAlone'] = 1  # Initialize to 1 (meaning alone)\n",
        "df['IsAlone'].loc[df['FamilySize'] > 1] = 0  # If FamilySize > 1, set to 0\n",
        "\n",
        "# Extract 'Title' from 'Name'\n",
        "df['Title'] = df['Name'].str.extract(' ([A-Za-z]+)\\.', expand=False)\n",
        "\n",
        "# Simplify titles\n",
        "df['Title'] = df['Title'].replace(['Lady', 'Countess', 'Capt', 'Col',\n",
        "                                    'Don', 'Dr', 'Major', 'Rev', 'Sir',\n",
        "                                    'Jonkheer', 'Dona'], 'Rare')\n",
        "df['Title'] = df['Title'].replace('Mlle', 'Miss')\n",
        "df['Title'] = df['Title'].replace('Ms', 'Miss')\n",
        "df['Title'] = df['Title'].replace('Mme', 'Mrs')\n",
        "\n",
        "# Encode categorical features\n",
        "df = pd.get_dummies(df, columns=['Sex', 'Embarked', 'Title'], drop_first=True)\n",
        "\n",
        "# Initialize the scaler\n",
        "from sklearn.preprocessing import StandardScaler\n",
        "scaler = StandardScaler()\n",
        "\n",
        "# Normalize 'Age' and 'Fare'\n",
        "df[['Age', 'Fare']] = scaler.fit_transform(df[['Age', 'Fare']])\n",
        "\n",
        "# Separate features and target variable\n",
        "X = df.drop(columns=['Survived', 'Name', 'Ticket'])\n",
        "y = df['Survived']\n",
        "\n",
        "# Split the dataset into training and test sets\n",
        "from sklearn.model_selection import train_test_split\n",
        "X_train, X_test, y_train, y_test = train_test_split(X, y, test_size=0.2, random_state=42)\n"
      ],
      "metadata": {
        "colab": {
          "base_uri": "https://localhost:8080/"
        },
        "id": "eCF0iG6oAliX",
        "outputId": "86a87ba3-675e-4ac9-c3bf-5077747a1e9c"
      },
      "execution_count": 4,
      "outputs": [
        {
          "output_type": "stream",
          "name": "stdout",
          "text": [
            "['gender_submission.csv', 'test.csv', 'train.csv']\n"
          ]
        },
        {
          "output_type": "stream",
          "name": "stderr",
          "text": [
            "<ipython-input-4-0da3d77d02a4>:27: SettingWithCopyWarning: \n",
            "A value is trying to be set on a copy of a slice from a DataFrame\n",
            "\n",
            "See the caveats in the documentation: https://pandas.pydata.org/pandas-docs/stable/user_guide/indexing.html#returning-a-view-versus-a-copy\n",
            "  df['IsAlone'].loc[df['FamilySize'] > 1] = 0  # If FamilySize > 1, set to 0\n"
          ]
        }
      ]
    },
    {
      "cell_type": "code",
      "source": [
        "import pandas as pd\n",
        "from zipfile import ZipFile\n",
        "\n",
        "# Extract the specific CSV file from the ZIP archive\n",
        "with ZipFile('/content/titanic.zip') as z:\n",
        "    # Print the list of files in the ZIP archive to confirm the file names\n",
        "    print(z.namelist())\n",
        "    # Extract the 'train.csv' file\n",
        "    with z.open('train.csv') as f:\n",
        "        df = pd.read_csv(f)\n",
        "\n",
        "# Fill missing 'Age' values with median\n",
        "df['Age'].fillna(df['Age'].median(), inplace=True)\n",
        "\n",
        "# Drop 'Cabin' column\n",
        "df.drop(columns=['Cabin'], inplace=True)\n",
        "\n",
        "# Fill missing 'Embarked' values with mode\n",
        "df['Embarked'].fillna(df['Embarked'].mode()[0], inplace=True)\n",
        "\n",
        "# Create 'FamilySize' feature\n",
        "df['FamilySize'] = df['SibSp'] + df['Parch'] + 1\n",
        "\n",
        "# Create 'IsAlone' feature\n",
        "df['IsAlone'] = 1  # Initialize to 1 (meaning alone)\n",
        "df.loc[df['FamilySize'] > 1, 'IsAlone'] = 0  # If FamilySize > 1, set to 0\n",
        "\n",
        "# Extract 'Title' from 'Name'\n",
        "df['Title'] = df['Name'].str.extract(' ([A-Za-z]+)\\.', expand=False)\n",
        "\n",
        "# Simplify titles\n",
        "df['Title'] = df['Title'].replace(['Lady', 'Countess', 'Capt', 'Col',\n",
        "                                    'Don', 'Dr', 'Major', 'Rev', 'Sir',\n",
        "                                    'Jonkheer', 'Dona'], 'Rare')\n",
        "df['Title'] = df['Title'].replace('Mlle', 'Miss')\n",
        "df['Title'] = df['Title'].replace('Ms', 'Miss')\n",
        "df['Title'] = df['Title'].replace('Mme', 'Mrs')\n",
        "\n",
        "# Encode categorical features\n",
        "df = pd.get_dummies(df, columns=['Sex', 'Embarked', 'Title'], drop_first=True)\n",
        "\n",
        "# Initialize the scaler\n",
        "from sklearn.preprocessing import StandardScaler\n",
        "scaler = StandardScaler()\n",
        "\n",
        "# Normalize 'Age' and 'Fare'\n",
        "df[['Age', 'Fare']] = scaler.fit_transform(df[['Age', 'Fare']])\n",
        "\n",
        "# Separate features and target variable\n",
        "X = df.drop(columns=['Survived', 'Name', 'Ticket'])\n",
        "y = df['Survived']\n",
        "\n",
        "# Split the dataset into training and test sets\n",
        "from sklearn.model_selection import train_test_split\n",
        "X_train, X_test, y_train, y_test = train_test_split(X, y, test_size=0.2, random_state=42)\n",
        "\n"
      ],
      "metadata": {
        "colab": {
          "base_uri": "https://localhost:8080/"
        },
        "id": "pw-Vx2mOBtir",
        "outputId": "8fde2b1a-aa38-418f-c554-4ab5283f8021"
      },
      "execution_count": 5,
      "outputs": [
        {
          "output_type": "stream",
          "name": "stdout",
          "text": [
            "['gender_submission.csv', 'test.csv', 'train.csv']\n"
          ]
        }
      ]
    },
    {
      "cell_type": "code",
      "source": [],
      "metadata": {
        "id": "SxHmoqKlCCkR"
      },
      "execution_count": null,
      "outputs": []
    }
  ]
}